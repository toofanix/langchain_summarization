{
 "cells": [
  {
   "cell_type": "code",
   "execution_count": 1,
   "metadata": {},
   "outputs": [],
   "source": [
    "# Used the embeddings fro HuggingFace\n",
    "from llama_index.embeddings.huggingface import HuggingFaceEmbedding\n",
    "\n",
    "embed_model = HuggingFaceEmbedding(model_name=\"BAAI/bge-small-en-v1.5\")\n",
    "# Load the model\n",
    "from llama_index.llms.ollama import Ollama\n",
    "\n",
    "llm = Ollama(model=\"phi3\", request_timeout=120.0)\n",
    "# Configure the settings to so that the desired llm and embedding_model is used.\n",
    "from llama_index.core import Settings\n",
    "\n",
    "Settings.llm = llm\n",
    "Settings.embed_model = embed_model"
   ]
  },
  {
   "cell_type": "code",
   "execution_count": 2,
   "metadata": {},
   "outputs": [],
   "source": [
    "from llama_index.readers.github import GithubRepositoryReader, GithubClient\n",
    "import nest_asyncio\n",
    "nest_asyncio.apply()\n",
    "from llama_index.core import VectorStoreIndex\n",
    "from llama_index.core import (ServiceContext, StorageContext, load_index_from_storage)"
   ]
  },
  {
   "cell_type": "code",
   "execution_count": 3,
   "metadata": {},
   "outputs": [
    {
     "data": {
      "text/plain": [
       "True"
      ]
     },
     "execution_count": 3,
     "metadata": {},
     "output_type": "execute_result"
    }
   ],
   "source": [
    "import os\n",
    "folder_path = \"./storage\"\n",
    "folder_exists = os.path.exists(folder_path) and os.path.isdir(folder_path)\n",
    "folder_exists"
   ]
  },
  {
   "cell_type": "code",
   "execution_count": 4,
   "metadata": {},
   "outputs": [],
   "source": [
    "if folder_exists:\n",
    "    storage_context = StorageContext.from_defaults(persist_dir=\"./storage\")\n",
    "    index = load_index_from_storage(storage_context)\n",
    "else:\n",
    "\n",
    "    client = github_client = GithubClient(github_token=\"\", verbose=False)\n",
    "\n",
    "    reader = GithubRepositoryReader(\n",
    "        github_client=github_client,\n",
    "        owner=\"Arize-ai\",\n",
    "        repo=\"phoenix\",\n",
    "        use_parser=False,\n",
    "        verbose=True,\n",
    "        filter_directories=(\n",
    "            [\"docs\"],\n",
    "            GithubRepositoryReader.FilterType.INCLUDE,\n",
    "        ),\n",
    "        filter_file_extensions=(\n",
    "            [\n",
    "                \".png\",\n",
    "                \".jpg\",\n",
    "                \".jpeg\",\n",
    "                \".gif\",\n",
    "                \".svg\",\n",
    "                \".ico\",\n",
    "                \"json\",\n",
    "                \".ipynb\",\n",
    "            ],\n",
    "            GithubRepositoryReader.FilterType.EXCLUDE,\n",
    "        ),\n",
    "    )\n",
    "\n",
    "    branch_documents = reader.load_data(branch=\"main\")\n",
    "    index = VectorStoreIndex.from_documents(branch_documents)\n",
    "    index.storage_context.persist()"
   ]
  },
  {
   "cell_type": "code",
   "execution_count": 5,
   "metadata": {},
   "outputs": [],
   "source": [
    "query_engine = index.as_query_engine()"
   ]
  },
  {
   "cell_type": "code",
   "execution_count": 6,
   "metadata": {},
   "outputs": [],
   "source": [
    "question = \"What is phoenix?\"\n",
    "prompt = f\"Respond to this question:\\n\\n{question}\\n\\nAnswer:\\n\"\n",
    "response = query_engine.query(prompt)\n"
   ]
  },
  {
   "cell_type": "code",
   "execution_count": 11,
   "metadata": {},
   "outputs": [
    {
     "name": "stdout",
     "output_type": "stream",
     "text": [
      " AI Observability Library\n"
     ]
    }
   ],
   "source": [
    "print(response)"
   ]
  },
  {
   "cell_type": "code",
   "execution_count": null,
   "metadata": {},
   "outputs": [],
   "source": []
  }
 ],
 "metadata": {
  "kernelspec": {
   "display_name": "llindex",
   "language": "python",
   "name": "python3"
  },
  "language_info": {
   "codemirror_mode": {
    "name": "ipython",
    "version": 3
   },
   "file_extension": ".py",
   "mimetype": "text/x-python",
   "name": "python",
   "nbconvert_exporter": "python",
   "pygments_lexer": "ipython3",
   "version": "3.11.9"
  }
 },
 "nbformat": 4,
 "nbformat_minor": 2
}
