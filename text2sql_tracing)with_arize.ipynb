{
 "cells": [
  {
   "cell_type": "code",
   "execution_count": null,
   "metadata": {},
   "outputs": [],
   "source": [
    "#https://colab.research.google.com/github/Arize-ai/phoenix/blob/datasets/tutorials/experiments/txt2sql.ipynb#scrollTo=1HPMpWWkdFAs"
   ]
  },
  {
   "cell_type": "code",
   "execution_count": 1,
   "metadata": {},
   "outputs": [
    {
     "name": "stdout",
     "output_type": "stream",
     "text": [
      "🌍 To view the Phoenix app in your browser, visit http://localhost:6006/\n",
      "📖 For more information on how to use Phoenix, check out https://docs.arize.com/phoenix\n"
     ]
    },
    {
     "data": {
      "text/plain": [
       "<phoenix.session.session.ThreadSession at 0x1ab011576d0>"
      ]
     },
     "execution_count": 1,
     "metadata": {},
     "output_type": "execute_result"
    }
   ],
   "source": [
    "# Launch Phoenix\n",
    "import phoenix as px\n",
    "px.launch_app()"
   ]
  },
  {
   "cell_type": "code",
   "execution_count": 2,
   "metadata": {},
   "outputs": [],
   "source": [
    "# Start tracing for OpenAI. \n",
    "# We will repurpose the OpenAI to use Ollama.\n",
    "from phoenix.trace.openai import OpenAIInstrumentor\n",
    "OpenAIInstrumentor().instrument()"
   ]
  },
  {
   "cell_type": "code",
   "execution_count": 3,
   "metadata": {},
   "outputs": [],
   "source": [
    "import nest_asyncio\n",
    "nest_asyncio.apply()"
   ]
  },
  {
   "cell_type": "code",
   "execution_count": 4,
   "metadata": {},
   "outputs": [],
   "source": [
    "# Load the data\n",
    "import duckdb\n",
    "from datasets import load_dataset\n",
    "data = load_dataset(\"suzyanil/nba-data\")[\"train\"]"
   ]
  },
  {
   "cell_type": "code",
   "execution_count": 5,
   "metadata": {},
   "outputs": [
    {
     "name": "stdout",
     "output_type": "stream",
     "text": [
      "<class 'pandas.core.frame.DataFrame'>\n",
      "RangeIndex: 9840 entries, 0 to 9839\n",
      "Data columns (total 41 columns):\n",
      " #   Column                    Non-Null Count  Dtype         \n",
      "---  ------                    --------------  -----         \n",
      " 0   Unnamed: 0                9840 non-null   int64         \n",
      " 1   Team                      9840 non-null   object        \n",
      " 2   Game                      9840 non-null   int64         \n",
      " 3   Date                      9840 non-null   datetime64[ns]\n",
      " 4   Home                      9840 non-null   object        \n",
      " 5   Opponent                  9840 non-null   object        \n",
      " 6   WINorLOSS                 9840 non-null   object        \n",
      " 7   TeamPoints                9840 non-null   int64         \n",
      " 8   OpponentPoints            9840 non-null   int64         \n",
      " 9   FieldGoals                9840 non-null   int64         \n",
      " 10  FieldGoalsAttempted       9840 non-null   int64         \n",
      " 11  FieldGoals.               9840 non-null   float64       \n",
      " 12  X3PointShots              9840 non-null   int64         \n",
      " 13  X3PointShotsAttempted     9840 non-null   int64         \n",
      " 14  X3PointShots.             9840 non-null   float64       \n",
      " 15  FreeThrows                9840 non-null   int64         \n",
      " 16  FreeThrowsAttempted       9840 non-null   int64         \n",
      " 17  FreeThrows.               9840 non-null   float64       \n",
      " 18  OffRebounds               9840 non-null   int64         \n",
      " 19  TotalRebounds             9840 non-null   int64         \n",
      " 20  Assists                   9840 non-null   int64         \n",
      " 21  Steals                    9840 non-null   int64         \n",
      " 22  Blocks                    9840 non-null   int64         \n",
      " 23  Turnovers                 9840 non-null   int64         \n",
      " 24  TotalFouls                9840 non-null   int64         \n",
      " 25  Opp.FieldGoals            9840 non-null   int64         \n",
      " 26  Opp.FieldGoalsAttempted   9840 non-null   int64         \n",
      " 27  Opp.FieldGoals.           9840 non-null   float64       \n",
      " 28  Opp.3PointShots           9840 non-null   int64         \n",
      " 29  Opp.3PointShotsAttempted  9840 non-null   int64         \n",
      " 30  Opp.3PointShots.          9840 non-null   float64       \n",
      " 31  Opp.FreeThrows            9840 non-null   int64         \n",
      " 32  Opp.FreeThrowsAttempted   9840 non-null   int64         \n",
      " 33  Opp.FreeThrows.           9840 non-null   float64       \n",
      " 34  Opp.OffRebounds           9840 non-null   int64         \n",
      " 35  Opp.TotalRebounds         9840 non-null   int64         \n",
      " 36  Opp.Assists               9840 non-null   int64         \n",
      " 37  Opp.Steals                9840 non-null   int64         \n",
      " 38  Opp.Blocks                9840 non-null   int64         \n",
      " 39  Opp.Turnovers             9840 non-null   int64         \n",
      " 40  Opp.TotalFouls            9840 non-null   int64         \n",
      "dtypes: datetime64[ns](1), float64(6), int64(30), object(4)\n",
      "memory usage: 3.1+ MB\n"
     ]
    },
    {
     "name": "stderr",
     "output_type": "stream",
     "text": [
      "C:\\Users\\Jigar\\AppData\\Local\\Temp\\ipykernel_21952\\3920167961.py:4: UserWarning: Could not infer format, so each element will be parsed individually, falling back to `dateutil`. To ensure parsing is consistent and as-expected, please specify a format.\n",
      "  df['Date'] = pd.to_datetime(df['Date'])\n"
     ]
    }
   ],
   "source": [
    "# Change the date to correct format\n",
    "import pandas as pd\n",
    "df = data.to_pandas()\n",
    "df['Date'] = pd.to_datetime(df['Date'])\n",
    "df.info()"
   ]
  },
  {
   "cell_type": "code",
   "execution_count": 6,
   "metadata": {},
   "outputs": [
    {
     "data": {
      "text/plain": [
       "{'Unnamed: 0': 1,\n",
       " 'Team': 'ATL',\n",
       " 'Game': 1,\n",
       " 'Date': Timestamp('2014-10-29 00:00:00'),\n",
       " 'Home': 'Away',\n",
       " 'Opponent': 'TOR',\n",
       " 'WINorLOSS': 'L',\n",
       " 'TeamPoints': 102,\n",
       " 'OpponentPoints': 109,\n",
       " 'FieldGoals': 40,\n",
       " 'FieldGoalsAttempted': 80,\n",
       " 'FieldGoals.': 0.5,\n",
       " 'X3PointShots': 13,\n",
       " 'X3PointShotsAttempted': 22,\n",
       " 'X3PointShots.': 0.591,\n",
       " 'FreeThrows': 9,\n",
       " 'FreeThrowsAttempted': 17,\n",
       " 'FreeThrows.': 0.529,\n",
       " 'OffRebounds': 10,\n",
       " 'TotalRebounds': 42,\n",
       " 'Assists': 26,\n",
       " 'Steals': 6,\n",
       " 'Blocks': 8,\n",
       " 'Turnovers': 17,\n",
       " 'TotalFouls': 24,\n",
       " 'Opp.FieldGoals': 37,\n",
       " 'Opp.FieldGoalsAttempted': 90,\n",
       " 'Opp.FieldGoals.': 0.411,\n",
       " 'Opp.3PointShots': 8,\n",
       " 'Opp.3PointShotsAttempted': 26,\n",
       " 'Opp.3PointShots.': 0.308,\n",
       " 'Opp.FreeThrows': 27,\n",
       " 'Opp.FreeThrowsAttempted': 33,\n",
       " 'Opp.FreeThrows.': 0.818,\n",
       " 'Opp.OffRebounds': 16,\n",
       " 'Opp.TotalRebounds': 48,\n",
       " 'Opp.Assists': 26,\n",
       " 'Opp.Steals': 13,\n",
       " 'Opp.Blocks': 9,\n",
       " 'Opp.Turnovers': 9,\n",
       " 'Opp.TotalFouls': 22}"
      ]
     },
     "execution_count": 6,
     "metadata": {},
     "output_type": "execute_result"
    }
   ],
   "source": [
    "# Create connection to the dataframe \n",
    "conn = duckdb.connect(database=\":memory:\", read_only=False)\n",
    "conn.register(\"nba\", df)\n",
    "\n",
    "conn.query(\"SELECT * FROM nba limit 5\").to_df().to_dict(orient=\"records\")[0]"
   ]
  },
  {
   "cell_type": "markdown",
   "metadata": {},
   "source": [
    "# Implement txt to sql"
   ]
  },
  {
   "cell_type": "code",
   "execution_count": 7,
   "metadata": {},
   "outputs": [],
   "source": [
    "import os\n",
    "import openai\n",
    "client = openai.AsyncClient(base_url=\"http://localhost:11434/v1/\", api_key=\"ollama\") # repurpose the client to use Ollama"
   ]
  },
  {
   "cell_type": "code",
   "execution_count": 8,
   "metadata": {},
   "outputs": [
    {
     "data": {
      "text/plain": [
       "[{'column_name': 'Unnamed: 0',\n",
       "  'column_type': 'BIGINT',\n",
       "  'null': 'YES',\n",
       "  'key': None,\n",
       "  'default': None,\n",
       "  'extra': None},\n",
       " {'column_name': 'Team',\n",
       "  'column_type': 'VARCHAR',\n",
       "  'null': 'YES',\n",
       "  'key': None,\n",
       "  'default': None,\n",
       "  'extra': None},\n",
       " {'column_name': 'Game',\n",
       "  'column_type': 'BIGINT',\n",
       "  'null': 'YES',\n",
       "  'key': None,\n",
       "  'default': None,\n",
       "  'extra': None},\n",
       " {'column_name': 'Date',\n",
       "  'column_type': 'TIMESTAMP_NS',\n",
       "  'null': 'YES',\n",
       "  'key': None,\n",
       "  'default': None,\n",
       "  'extra': None},\n",
       " {'column_name': 'Home',\n",
       "  'column_type': 'VARCHAR',\n",
       "  'null': 'YES',\n",
       "  'key': None,\n",
       "  'default': None,\n",
       "  'extra': None},\n",
       " {'column_name': 'Opponent',\n",
       "  'column_type': 'VARCHAR',\n",
       "  'null': 'YES',\n",
       "  'key': None,\n",
       "  'default': None,\n",
       "  'extra': None},\n",
       " {'column_name': 'WINorLOSS',\n",
       "  'column_type': 'VARCHAR',\n",
       "  'null': 'YES',\n",
       "  'key': None,\n",
       "  'default': None,\n",
       "  'extra': None},\n",
       " {'column_name': 'TeamPoints',\n",
       "  'column_type': 'BIGINT',\n",
       "  'null': 'YES',\n",
       "  'key': None,\n",
       "  'default': None,\n",
       "  'extra': None},\n",
       " {'column_name': 'OpponentPoints',\n",
       "  'column_type': 'BIGINT',\n",
       "  'null': 'YES',\n",
       "  'key': None,\n",
       "  'default': None,\n",
       "  'extra': None},\n",
       " {'column_name': 'FieldGoals',\n",
       "  'column_type': 'BIGINT',\n",
       "  'null': 'YES',\n",
       "  'key': None,\n",
       "  'default': None,\n",
       "  'extra': None},\n",
       " {'column_name': 'FieldGoalsAttempted',\n",
       "  'column_type': 'BIGINT',\n",
       "  'null': 'YES',\n",
       "  'key': None,\n",
       "  'default': None,\n",
       "  'extra': None},\n",
       " {'column_name': 'FieldGoals.',\n",
       "  'column_type': 'DOUBLE',\n",
       "  'null': 'YES',\n",
       "  'key': None,\n",
       "  'default': None,\n",
       "  'extra': None},\n",
       " {'column_name': 'X3PointShots',\n",
       "  'column_type': 'BIGINT',\n",
       "  'null': 'YES',\n",
       "  'key': None,\n",
       "  'default': None,\n",
       "  'extra': None},\n",
       " {'column_name': 'X3PointShotsAttempted',\n",
       "  'column_type': 'BIGINT',\n",
       "  'null': 'YES',\n",
       "  'key': None,\n",
       "  'default': None,\n",
       "  'extra': None},\n",
       " {'column_name': 'X3PointShots.',\n",
       "  'column_type': 'DOUBLE',\n",
       "  'null': 'YES',\n",
       "  'key': None,\n",
       "  'default': None,\n",
       "  'extra': None},\n",
       " {'column_name': 'FreeThrows',\n",
       "  'column_type': 'BIGINT',\n",
       "  'null': 'YES',\n",
       "  'key': None,\n",
       "  'default': None,\n",
       "  'extra': None},\n",
       " {'column_name': 'FreeThrowsAttempted',\n",
       "  'column_type': 'BIGINT',\n",
       "  'null': 'YES',\n",
       "  'key': None,\n",
       "  'default': None,\n",
       "  'extra': None},\n",
       " {'column_name': 'FreeThrows.',\n",
       "  'column_type': 'DOUBLE',\n",
       "  'null': 'YES',\n",
       "  'key': None,\n",
       "  'default': None,\n",
       "  'extra': None},\n",
       " {'column_name': 'OffRebounds',\n",
       "  'column_type': 'BIGINT',\n",
       "  'null': 'YES',\n",
       "  'key': None,\n",
       "  'default': None,\n",
       "  'extra': None},\n",
       " {'column_name': 'TotalRebounds',\n",
       "  'column_type': 'BIGINT',\n",
       "  'null': 'YES',\n",
       "  'key': None,\n",
       "  'default': None,\n",
       "  'extra': None},\n",
       " {'column_name': 'Assists',\n",
       "  'column_type': 'BIGINT',\n",
       "  'null': 'YES',\n",
       "  'key': None,\n",
       "  'default': None,\n",
       "  'extra': None},\n",
       " {'column_name': 'Steals',\n",
       "  'column_type': 'BIGINT',\n",
       "  'null': 'YES',\n",
       "  'key': None,\n",
       "  'default': None,\n",
       "  'extra': None},\n",
       " {'column_name': 'Blocks',\n",
       "  'column_type': 'BIGINT',\n",
       "  'null': 'YES',\n",
       "  'key': None,\n",
       "  'default': None,\n",
       "  'extra': None},\n",
       " {'column_name': 'Turnovers',\n",
       "  'column_type': 'BIGINT',\n",
       "  'null': 'YES',\n",
       "  'key': None,\n",
       "  'default': None,\n",
       "  'extra': None},\n",
       " {'column_name': 'TotalFouls',\n",
       "  'column_type': 'BIGINT',\n",
       "  'null': 'YES',\n",
       "  'key': None,\n",
       "  'default': None,\n",
       "  'extra': None},\n",
       " {'column_name': 'Opp.FieldGoals',\n",
       "  'column_type': 'BIGINT',\n",
       "  'null': 'YES',\n",
       "  'key': None,\n",
       "  'default': None,\n",
       "  'extra': None},\n",
       " {'column_name': 'Opp.FieldGoalsAttempted',\n",
       "  'column_type': 'BIGINT',\n",
       "  'null': 'YES',\n",
       "  'key': None,\n",
       "  'default': None,\n",
       "  'extra': None},\n",
       " {'column_name': 'Opp.FieldGoals.',\n",
       "  'column_type': 'DOUBLE',\n",
       "  'null': 'YES',\n",
       "  'key': None,\n",
       "  'default': None,\n",
       "  'extra': None},\n",
       " {'column_name': 'Opp.3PointShots',\n",
       "  'column_type': 'BIGINT',\n",
       "  'null': 'YES',\n",
       "  'key': None,\n",
       "  'default': None,\n",
       "  'extra': None},\n",
       " {'column_name': 'Opp.3PointShotsAttempted',\n",
       "  'column_type': 'BIGINT',\n",
       "  'null': 'YES',\n",
       "  'key': None,\n",
       "  'default': None,\n",
       "  'extra': None},\n",
       " {'column_name': 'Opp.3PointShots.',\n",
       "  'column_type': 'DOUBLE',\n",
       "  'null': 'YES',\n",
       "  'key': None,\n",
       "  'default': None,\n",
       "  'extra': None},\n",
       " {'column_name': 'Opp.FreeThrows',\n",
       "  'column_type': 'BIGINT',\n",
       "  'null': 'YES',\n",
       "  'key': None,\n",
       "  'default': None,\n",
       "  'extra': None},\n",
       " {'column_name': 'Opp.FreeThrowsAttempted',\n",
       "  'column_type': 'BIGINT',\n",
       "  'null': 'YES',\n",
       "  'key': None,\n",
       "  'default': None,\n",
       "  'extra': None},\n",
       " {'column_name': 'Opp.FreeThrows.',\n",
       "  'column_type': 'DOUBLE',\n",
       "  'null': 'YES',\n",
       "  'key': None,\n",
       "  'default': None,\n",
       "  'extra': None},\n",
       " {'column_name': 'Opp.OffRebounds',\n",
       "  'column_type': 'BIGINT',\n",
       "  'null': 'YES',\n",
       "  'key': None,\n",
       "  'default': None,\n",
       "  'extra': None},\n",
       " {'column_name': 'Opp.TotalRebounds',\n",
       "  'column_type': 'BIGINT',\n",
       "  'null': 'YES',\n",
       "  'key': None,\n",
       "  'default': None,\n",
       "  'extra': None},\n",
       " {'column_name': 'Opp.Assists',\n",
       "  'column_type': 'BIGINT',\n",
       "  'null': 'YES',\n",
       "  'key': None,\n",
       "  'default': None,\n",
       "  'extra': None},\n",
       " {'column_name': 'Opp.Steals',\n",
       "  'column_type': 'BIGINT',\n",
       "  'null': 'YES',\n",
       "  'key': None,\n",
       "  'default': None,\n",
       "  'extra': None},\n",
       " {'column_name': 'Opp.Blocks',\n",
       "  'column_type': 'BIGINT',\n",
       "  'null': 'YES',\n",
       "  'key': None,\n",
       "  'default': None,\n",
       "  'extra': None},\n",
       " {'column_name': 'Opp.Turnovers',\n",
       "  'column_type': 'BIGINT',\n",
       "  'null': 'YES',\n",
       "  'key': None,\n",
       "  'default': None,\n",
       "  'extra': None},\n",
       " {'column_name': 'Opp.TotalFouls',\n",
       "  'column_type': 'BIGINT',\n",
       "  'null': 'YES',\n",
       "  'key': None,\n",
       "  'default': None,\n",
       "  'extra': None}]"
      ]
     },
     "execution_count": 8,
     "metadata": {},
     "output_type": "execute_result"
    }
   ],
   "source": [
    "columns = conn.query(\"DESCRIBE nba\").to_df().to_dict(orient=\"records\")\n",
    "columns # get the columns info. This will be used as part of the system prompt."
   ]
  },
  {
   "cell_type": "code",
   "execution_count": 9,
   "metadata": {},
   "outputs": [],
   "source": [
    "TASK_MODEL = \"phi3\"\n",
    "CONFIG = {\"model\": TASK_MODEL}"
   ]
  },
  {
   "cell_type": "markdown",
   "metadata": {},
   "source": [
    "# SIMPLE PROMPT"
   ]
  },
  {
   "cell_type": "code",
   "execution_count": 10,
   "metadata": {},
   "outputs": [],
   "source": [
    "system_prompt = (\n",
    "    \"You are a SQL expert, and you are given a single table named nba with the following columns:\\n\"\n",
    "    f\"\"\"{\",\".join(column[\"column_name\"] + \": \" + column[\"column_type\"] for column in columns)}\\n\"\"\"\n",
    "    \"Write a SQL query corresponding to the user's request. Return just the query text, \"\n",
    "    \"with no formatting (backticks, markdown, etc.).\"\n",
    ")"
   ]
  },
  {
   "cell_type": "code",
   "execution_count": 11,
   "metadata": {},
   "outputs": [],
   "source": [
    "# LLM function\n",
    "async def generate_query(input):\n",
    "    response = await client.chat.completions.create(\n",
    "        model=TASK_MODEL,\n",
    "        temperature=0,\n",
    "        messages=[\n",
    "            {\n",
    "                \"role\": \"system\",\n",
    "                \"content\": system_prompt,\n",
    "            },\n",
    "            {\n",
    "                \"role\": \"user\",\n",
    "                \"content\": input,\n",
    "            },\n",
    "        ],\n",
    "    )\n",
    "    return response.choices[0].message.content"
   ]
  },
  {
   "cell_type": "code",
   "execution_count": 12,
   "metadata": {},
   "outputs": [
    {
     "name": "stdout",
     "output_type": "stream",
     "text": [
      " SELECT Team AS Winner FROM nba WHERE WinorLOSS = 'WIN' GROUP BY Team ORDER BY COUNT(*) DESC LIMIT 1;\n",
      "Please note that this assumes a simplified representation of game outcomes and does not account for ties or other complexities in real-world data. The actual query might need adjustments based on the specific SQL dialect being used (e.g., MySQL, PostgreSQL) and additional details about how games are recorded if there's more than one per day.\n"
     ]
    }
   ],
   "source": [
    "query = await generate_query(\"Who won the most games?\")\n",
    "print(query)"
   ]
  },
  {
   "cell_type": "code",
   "execution_count": 13,
   "metadata": {},
   "outputs": [
    {
     "data": {
      "text/plain": [
       "[{'Winner': 'GSW'}]"
      ]
     },
     "execution_count": 13,
     "metadata": {},
     "output_type": "execute_result"
    }
   ],
   "source": [
    "# SQL function\n",
    "def execute_query(query):\n",
    "    return conn.query(query).fetchdf().to_dict(orient=\"records\")\n",
    "\n",
    "\n",
    "execute_query(\"SELECT Team AS Winner FROM nba WHERE WINorLOSS = 'W' GROUP BY Team ORDER BY COUNT(*) DESC LIMIT 1;\")"
   ]
  },
  {
   "cell_type": "code",
   "execution_count": 14,
   "metadata": {},
   "outputs": [
    {
     "data": {
      "text/html": [
       "<div>\n",
       "<style scoped>\n",
       "    .dataframe tbody tr th:only-of-type {\n",
       "        vertical-align: middle;\n",
       "    }\n",
       "\n",
       "    .dataframe tbody tr th {\n",
       "        vertical-align: top;\n",
       "    }\n",
       "\n",
       "    .dataframe thead th {\n",
       "        text-align: right;\n",
       "    }\n",
       "</style>\n",
       "<table border=\"1\" class=\"dataframe\">\n",
       "  <thead>\n",
       "    <tr style=\"text-align: right;\">\n",
       "      <th></th>\n",
       "      <th>Winner</th>\n",
       "      <th>count_star()</th>\n",
       "    </tr>\n",
       "  </thead>\n",
       "  <tbody>\n",
       "    <tr>\n",
       "      <th>0</th>\n",
       "      <td>GSW</td>\n",
       "      <td>265</td>\n",
       "    </tr>\n",
       "    <tr>\n",
       "      <th>1</th>\n",
       "      <td>SAS</td>\n",
       "      <td>230</td>\n",
       "    </tr>\n",
       "    <tr>\n",
       "      <th>2</th>\n",
       "      <td>HOU</td>\n",
       "      <td>217</td>\n",
       "    </tr>\n",
       "    <tr>\n",
       "      <th>3</th>\n",
       "      <td>TOR</td>\n",
       "      <td>215</td>\n",
       "    </tr>\n",
       "    <tr>\n",
       "      <th>4</th>\n",
       "      <td>CLE</td>\n",
       "      <td>211</td>\n",
       "    </tr>\n",
       "  </tbody>\n",
       "</table>\n",
       "</div>"
      ],
      "text/plain": [
       "  Winner  count_star()\n",
       "0    GSW           265\n",
       "1    SAS           230\n",
       "2    HOU           217\n",
       "3    TOR           215\n",
       "4    CLE           211"
      ]
     },
     "execution_count": 14,
     "metadata": {},
     "output_type": "execute_result"
    }
   ],
   "source": [
    "conn.query(\"SELECT Team AS Winner, count(*) FROM nba WHERE WINorLOSS = 'W' GROUP BY Team ORDER BY COUNT(*) DESC\").to_df().head()"
   ]
  },
  {
   "cell_type": "code",
   "execution_count": 15,
   "metadata": {},
   "outputs": [],
   "source": [
    "# Test questions\n",
    "questions = [\n",
    "    \"Which team won the most games?\",\n",
    "    \"Which team won the most games in 2015?\",\n",
    "    \"Who led the league in 3 point shots?\",\n",
    "    \"Which team had the biggest difference in records across two consecutive years?\",\n",
    "    \"What is the average number of free throws per year?\",\n",
    "]"
   ]
  },
  {
   "cell_type": "code",
   "execution_count": 16,
   "metadata": {},
   "outputs": [
    {
     "name": "stdout",
     "output_type": "stream",
     "text": [
      "📤 Uploading dataset...\n",
      "💾 Examples uploaded: http://localhost:6006/datasets/RGF0YXNldDox/examples\n",
      "🗄️ Dataset version ID: RGF0YXNldFZlcnNpb246MQ==\n"
     ]
    }
   ],
   "source": [
    "# create a dataset in phonnix\n",
    "import pandas as pd\n",
    "# store the data above as a versioned dataset in phoenix.\n",
    "\n",
    "ds = px.Client().upload_dataset(\n",
    "    dataset_name=\"nba-questions\", # name of dataset\n",
    "    dataframe=pd.DataFrame({\"question\": questions}), # dataframe to load\n",
    "    input_keys=[\"question\"], # column that has the questions\n",
    ")\n",
    "\n",
    "# If you have already uploaded the dataset, you can fetch it using the following line\n",
    "# ds = px.Client().get_dataset(name=\"nba-questions\")"
   ]
  },
  {
   "cell_type": "code",
   "execution_count": 17,
   "metadata": {},
   "outputs": [],
   "source": [
    "# function for the generating sql from text and checking if there was any error\n",
    "async def text2sql(question):\n",
    "    query = await generate_query(question)\n",
    "    results = None\n",
    "    error = None\n",
    "    try:\n",
    "        results = execute_query(query)\n",
    "    except duckdb.Error as e:\n",
    "        error = str(e)\n",
    "\n",
    "    return {\n",
    "        \"query\": query,\n",
    "        \"results\": results,\n",
    "        \"error\": error,\n",
    "    }"
   ]
  },
  {
   "cell_type": "code",
   "execution_count": 18,
   "metadata": {},
   "outputs": [],
   "source": [
    "# Test if there are no sql execution errors\n",
    "def no_error(output):\n",
    "    return 1.0 if output.get(\"error\") is None else 0.0\n",
    "\n",
    "\n",
    "# Test if the query has results\n",
    "def has_results(output):\n",
    "    results = output.get(\"results\")\n",
    "    has_results = results is not None and len(results) > 0\n",
    "    return 1.0 if has_results else 0.0"
   ]
  },
  {
   "cell_type": "code",
   "execution_count": 19,
   "metadata": {},
   "outputs": [
    {
     "name": "stdout",
     "output_type": "stream",
     "text": [
      "🧪 Experiment started.\n",
      "📺 View dataset experiments: http://localhost:6006/datasets/RGF0YXNldDox/experiments\n",
      "🔗 View this experiment: http://localhost:6006/datasets/RGF0YXNldDox/compare?experimentId=RXhwZXJpbWVudDox\n"
     ]
    },
    {
     "data": {
      "application/vnd.jupyter.widget-view+json": {
       "model_id": "0ec5151c9f4c465cb480dffb5438aa17",
       "version_major": 2,
       "version_minor": 0
      },
      "text/plain": [
       "running tasks |          | 0/5 (0.0%) | ⏳ 00:00<? | ?it/s"
      ]
     },
     "metadata": {},
     "output_type": "display_data"
    },
    {
     "name": "stdout",
     "output_type": "stream",
     "text": [
      "✅ Task runs completed.\n",
      "🧠 Evaluation started.\n"
     ]
    },
    {
     "data": {
      "application/vnd.jupyter.widget-view+json": {
       "model_id": "b4e847f5aa2147c7b52ab5d2242d0ad0",
       "version_major": 2,
       "version_minor": 0
      },
      "text/plain": [
       "running experiment evaluations |          | 0/10 (0.0%) | ⏳ 00:00<? | ?it/s"
      ]
     },
     "metadata": {},
     "output_type": "display_data"
    },
    {
     "name": "stdout",
     "output_type": "stream",
     "text": [
      "\n",
      "🔗 View this experiment: http://localhost:6006/datasets/RGF0YXNldDox/compare?experimentId=RXhwZXJpbWVudDox\n",
      "\n",
      "Experiment Summary (07/22/24 03:17 PM -0400)\n",
      "--------------------------------------------\n",
      "     evaluator  n  n_scores  avg_score\n",
      "0  has_results  5         5        0.2\n",
      "1     no_error  5         5        0.4\n",
      "\n",
      "Tasks Summary (07/22/24 03:17 PM -0400)\n",
      "---------------------------------------\n",
      "   n_examples  n_runs  n_errors\n",
      "0           5       5         0\n"
     ]
    }
   ],
   "source": [
    "# running and experiment for all the question and checking if there is error and if any result is generated by sql\n",
    "from phoenix.experiments import run_experiment\n",
    "\n",
    "\n",
    "# Define the task to run text2sql on the input question\n",
    "def task(input):\n",
    "    return text2sql(input[\"question\"])\n",
    "\n",
    "\n",
    "experiment = run_experiment(\n",
    "    ds, task=task, evaluators=[no_error, has_results], experiment_metadata=CONFIG)"
   ]
  },
  {
   "cell_type": "markdown",
   "metadata": {},
   "source": [
    "# Advanced"
   ]
  },
  {
   "cell_type": "code",
   "execution_count": 20,
   "metadata": {},
   "outputs": [
    {
     "name": "stdout",
     "output_type": "stream",
     "text": [
      "Unnamed: 0 | BIGINT | 1\n",
      "Team | VARCHAR | ATL\n",
      "Game | BIGINT | 1\n",
      "Date | TIMESTAMP_NS | 2014-10-29 00:00:00\n",
      "Home | VARCHAR | Away\n",
      "Opponent | VARCHAR | TOR\n",
      "WINorLOSS | VARCHAR | L\n",
      "TeamPoints | BIGINT | 102\n",
      "OpponentPoints | BIGINT | 109\n",
      "FieldGoals | BIGINT | 40\n",
      "FieldGoalsAttempted | BIGINT | 80\n",
      "FieldGoals. | DOUBLE | 0.5\n",
      "X3PointShots | BIGINT | 13\n",
      "X3PointShotsAttempted | BIGINT | 22\n",
      "X3PointShots. | DOUBLE | 0.591\n",
      "FreeThrows | BIGINT | 9\n",
      "FreeThrowsAttempted | BIGINT | 17\n",
      "FreeThrows. | DOUBLE | 0.529\n",
      "OffRebounds | BIGINT | 10\n",
      "TotalRebounds | BIGINT | 42\n",
      "Assists | BIGINT | 26\n",
      "Steals | BIGINT | 6\n",
      "Blocks | BIGINT | 8\n",
      "Turnovers | BIGINT | 17\n",
      "TotalFouls | BIGINT | 24\n",
      "Opp.FieldGoals | BIGINT | 37\n",
      "Opp.FieldGoalsAttempted | BIGINT | 90\n",
      "Opp.FieldGoals. | DOUBLE | 0.411\n",
      "Opp.3PointShots | BIGINT | 8\n",
      "Opp.3PointShotsAttempted | BIGINT | 26\n",
      "Opp.3PointShots. | DOUBLE | 0.308\n",
      "Opp.FreeThrows | BIGINT | 27\n",
      "Opp.FreeThrowsAttempted | BIGINT | 33\n",
      "Opp.FreeThrows. | DOUBLE | 0.818\n",
      "Opp.OffRebounds | BIGINT | 16\n",
      "Opp.TotalRebounds | BIGINT | 48\n",
      "Opp.Assists | BIGINT | 26\n",
      "Opp.Steals | BIGINT | 13\n",
      "Opp.Blocks | BIGINT | 9\n",
      "Opp.Turnovers | BIGINT | 9\n",
      "Opp.TotalFouls | BIGINT | 22\n"
     ]
    }
   ],
   "source": [
    "# A more advanced representation of the schema for the prompt\n",
    "samples = conn.query(\"SELECT * FROM nba LIMIT 1\").to_df().to_dict(orient=\"records\")[0]\n",
    "\n",
    "sample_rows = \"\\n\".join(\n",
    "    f\"{column['column_name']} | {column['column_type']} | {samples[column['column_name']]}\"\n",
    "    for column in columns\n",
    ")\n",
    "\n",
    "print(sample_rows)"
   ]
  },
  {
   "cell_type": "code",
   "execution_count": 21,
   "metadata": {},
   "outputs": [
    {
     "name": "stdout",
     "output_type": "stream",
     "text": [
      "You are a SQL expert, and you are given a single table named nba with the following columns:\n",
      "\n",
      "Column | Type | Example\n",
      "-------|------|--------\n",
      "Unnamed: 0 | BIGINT | 1\n",
      "Team | VARCHAR | ATL\n",
      "Game | BIGINT | 1\n",
      "Date | TIMESTAMP_NS | 2014-10-29 00:00:00\n",
      "Home | VARCHAR | Away\n",
      "Opponent | VARCHAR | TOR\n",
      "WINorLOSS | VARCHAR | L\n",
      "TeamPoints | BIGINT | 102\n",
      "OpponentPoints | BIGINT | 109\n",
      "FieldGoals | BIGINT | 40\n",
      "FieldGoalsAttempted | BIGINT | 80\n",
      "FieldGoals. | DOUBLE | 0.5\n",
      "X3PointShots | BIGINT | 13\n",
      "X3PointShotsAttempted | BIGINT | 22\n",
      "X3PointShots. | DOUBLE | 0.591\n",
      "FreeThrows | BIGINT | 9\n",
      "FreeThrowsAttempted | BIGINT | 17\n",
      "FreeThrows. | DOUBLE | 0.529\n",
      "OffRebounds | BIGINT | 10\n",
      "TotalRebounds | BIGINT | 42\n",
      "Assists | BIGINT | 26\n",
      "Steals | BIGINT | 6\n",
      "Blocks | BIGINT | 8\n",
      "Turnovers | BIGINT | 17\n",
      "TotalFouls | BIGINT | 24\n",
      "Opp.FieldGoals | BIGINT | 37\n",
      "Opp.FieldGoalsAttempted | BIGINT | 90\n",
      "Opp.FieldGoals. | DOUBLE | 0.411\n",
      "Opp.3PointShots | BIGINT | 8\n",
      "Opp.3PointShotsAttempted | BIGINT | 26\n",
      "Opp.3PointShots. | DOUBLE | 0.308\n",
      "Opp.FreeThrows | BIGINT | 27\n",
      "Opp.FreeThrowsAttempted | BIGINT | 33\n",
      "Opp.FreeThrows. | DOUBLE | 0.818\n",
      "Opp.OffRebounds | BIGINT | 16\n",
      "Opp.TotalRebounds | BIGINT | 48\n",
      "Opp.Assists | BIGINT | 26\n",
      "Opp.Steals | BIGINT | 13\n",
      "Opp.Blocks | BIGINT | 9\n",
      "Opp.Turnovers | BIGINT | 9\n",
      "Opp.TotalFouls | BIGINT | 22\n",
      "\n",
      "Write a DuckDB SQL query corresponding to the user's request. Return just the query text, with no formatting (backticks, markdown, etc.).\n"
     ]
    }
   ],
   "source": [
    "system_prompt = (\n",
    "    \"You are a SQL expert, and you are given a single table named nba with the following columns:\\n\\n\"\n",
    "    \"Column | Type | Example\\n\"\n",
    "    \"-------|------|--------\\n\"\n",
    "    f\"{sample_rows}\\n\"\n",
    "    \"\\n\"\n",
    "    \"Write a DuckDB SQL query corresponding to the user's request. \"\n",
    "    \"Return just the query text, with no formatting (backticks, markdown, etc.).\"\n",
    ")\n",
    "\n",
    "print(system_prompt)"
   ]
  },
  {
   "cell_type": "code",
   "execution_count": 22,
   "metadata": {},
   "outputs": [
    {
     "name": "stdout",
     "output_type": "stream",
     "text": [
      " SELECT Team FROM nba WHERE YEAR(Date) = '2015' GROUP BY Team ORDER BY COUNT(*) DESC LIMIT 1;\n",
      "Please note that this query assumes there is a column named `Year` extracted from the `Date` column, which was not present in your table description. If such functionality does not exist natively within DuckDB or if you prefer to avoid creating an additional computed column for year extraction, here's how it could be done:\n",
      "\n",
      "```sql\n",
      "SELECT Team FROM (\n",
      "    SELECT \n",
      "        Team, COUNT(*) AS GamesWonIn2015\n",
      "    FROM nba\n",
      "    WHERE EXTRACT(YEAR FROM Date) = '2015' AND WINorLOSS = 'W'\n",
      "    GROUP BY Team\n",
      ") AS SubQuery\n",
      "ORDER BY GamesWonIn2015 DESC LIMIT 1;\n",
      "```\n"
     ]
    }
   ],
   "source": [
    "# function to generate query\n",
    "async def generate_query(input):\n",
    "    response = await client.chat.completions.create(\n",
    "        model=TASK_MODEL,\n",
    "        temperature=0,\n",
    "        messages=[\n",
    "            {\n",
    "                \"role\": \"system\",\n",
    "                \"content\": system_prompt,\n",
    "            },\n",
    "            {\n",
    "                \"role\": \"user\",\n",
    "                \"content\": input,\n",
    "            },\n",
    "        ],\n",
    "    )\n",
    "    return response.choices[0].message.content\n",
    "\n",
    "\n",
    "print(await generate_query(\"Which team won the most games in 2015?\"))"
   ]
  },
  {
   "cell_type": "code",
   "execution_count": 23,
   "metadata": {},
   "outputs": [
    {
     "name": "stdout",
     "output_type": "stream",
     "text": [
      "🧪 Experiment started.\n",
      "📺 View dataset experiments: http://localhost:6006/datasets/RGF0YXNldDox/experiments\n",
      "🔗 View this experiment: http://localhost:6006/datasets/RGF0YXNldDox/compare?experimentId=RXhwZXJpbWVudDoy\n"
     ]
    },
    {
     "data": {
      "application/vnd.jupyter.widget-view+json": {
       "model_id": "1597883e422c470e89695004440971ba",
       "version_major": 2,
       "version_minor": 0
      },
      "text/plain": [
       "running tasks |          | 0/5 (0.0%) | ⏳ 00:00<? | ?it/s"
      ]
     },
     "metadata": {},
     "output_type": "display_data"
    },
    {
     "name": "stdout",
     "output_type": "stream",
     "text": [
      "✅ Task runs completed.\n",
      "🧠 Evaluation started.\n"
     ]
    },
    {
     "data": {
      "application/vnd.jupyter.widget-view+json": {
       "model_id": "7ec383c7c35944428d75cfb386715d52",
       "version_major": 2,
       "version_minor": 0
      },
      "text/plain": [
       "running experiment evaluations |          | 0/10 (0.0%) | ⏳ 00:00<? | ?it/s"
      ]
     },
     "metadata": {},
     "output_type": "display_data"
    },
    {
     "name": "stdout",
     "output_type": "stream",
     "text": [
      "\n",
      "🔗 View this experiment: http://localhost:6006/datasets/RGF0YXNldDox/compare?experimentId=RXhwZXJpbWVudDoy\n",
      "\n",
      "Experiment Summary (07/22/24 03:18 PM -0400)\n",
      "--------------------------------------------\n",
      "     evaluator  n  n_scores  avg_score\n",
      "0  has_results  5         5        0.6\n",
      "1     no_error  5         5        0.6\n",
      "\n",
      "Tasks Summary (07/22/24 03:18 PM -0400)\n",
      "---------------------------------------\n",
      "   n_examples  n_runs  n_errors\n",
      "0           5       5         0\n"
     ]
    }
   ],
   "source": [
    "# running the experiment on the dataset with same evaluators\n",
    "experiment = run_experiment(\n",
    "    ds, task=task, evaluators=[has_results, no_error], experiment_metadata=CONFIG\n",
    ")"
   ]
  },
  {
   "cell_type": "code",
   "execution_count": 24,
   "metadata": {},
   "outputs": [
    {
     "name": "stdout",
     "output_type": "stream",
     "text": [
      "🧠 Evaluation started.\n"
     ]
    },
    {
     "data": {
      "application/vnd.jupyter.widget-view+json": {
       "model_id": "d4ea5139a7e44afdbf70ab372b4940e0",
       "version_major": 2,
       "version_minor": 0
      },
      "text/plain": [
       "running experiment evaluations |          | 0/5 (0.0%) | ⏳ 00:00<? | ?it/s"
      ]
     },
     "metadata": {},
     "output_type": "display_data"
    },
    {
     "name": "stdout",
     "output_type": "stream",
     "text": [
      "\u001b[91mTraceback (most recent call last):\n",
      "  File \"c:\\Users\\Jigar\\anaconda3\\envs\\langchain\\Lib\\site-packages\\phoenix\\experiments\\functions.py\", line 560, in async_evaluate_run\n",
      "    result = await evaluator.async_evaluate(\n",
      "             ^^^^^^^^^^^^^^^^^^^^^^^^^^^^^^^\n",
      "  File \"c:\\Users\\Jigar\\anaconda3\\envs\\langchain\\Lib\\site-packages\\phoenix\\experiments\\evaluators\\llm_evaluators.py\", line 61, in async_evaluate\n",
      "    return self._parse_eval_output(unparsed_response)\n",
      "           ^^^^^^^^^^^^^^^^^^^^^^^^^^^^^^^^^^^^^^^^^^\n",
      "  File \"c:\\Users\\Jigar\\anaconda3\\envs\\langchain\\Lib\\site-packages\\phoenix\\experiments\\evaluators\\llm_evaluators.py\", line 79, in _parse_eval_output\n",
      "    raise RuntimeError(f\"Could not parse LLM evaluation: {unparsed_response}\")\n",
      "RuntimeError: Could not parse LLM evaluation:  CRITERIA: the text is 'is_sql'\n",
      "TEXT: {'query': ' SELECT AVG(FreeThrows) AS AvgFreeThrowsPerYear\\nFROM nba;', 'results': [{'AvgFreeThrowsPerYear': 17.320630081300813}], 'error': None}\n",
      "EXPLANATION: The provided text is a dictionary containing three key-value pairs - query, results and error. Upon examination of the value associated with the 'query' key ('SELECT AVG(FreeThrows) AS AvgFreeThrowsPerYear\\nFROM nba;'), it appears to be an SQL statement that calculates the average number of free throws per year from a table named 'nba'. The syntax and structure are correct, assuming there is indeed such a column in this hypothetical database. Furthermore, since no error information has been provided (the value associated with the key 'error' is None), we can infer that if executed correctly on an appropriate SQL environment without any issues or modifications to fit specific system requirements, it should run successfully and produce expected results as shown under the 'results' field in this text.\n",
      "\n",
      "The above exception was the direct cause of the following exception:\n",
      "\n",
      "RuntimeError: evaluator failed for example id 'RGF0YXNldEV4YW1wbGU6NQ==', repetition 1\n",
      "\u001b[0m\n",
      "\n",
      "🔗 View this experiment: http://localhost:6006/datasets/RGF0YXNldDox/compare?experimentId=RXhwZXJpbWVudDoy\n",
      "\n",
      "Experiment Summary (07/22/24 03:18 PM -0400)\n",
      "--------------------------------------------\n",
      "  evaluator  n  n_errors                                          top_error  \\\n",
      "0    is_sql  5         1  RuntimeError(\"Could not parse LLM evaluation: ...   \n",
      "\n",
      "   n_scores  avg_score  \n",
      "0         4        0.5  \n",
      "\n",
      "Experiment Summary (07/22/24 03:18 PM -0400)\n",
      "--------------------------------------------\n",
      "     evaluator  n  n_scores  avg_score\n",
      "0  has_results  5         5        0.6\n",
      "1     no_error  5         5        0.6\n",
      "\n",
      "Tasks Summary (07/22/24 03:18 PM -0400)\n",
      "---------------------------------------\n",
      "   n_examples  n_runs  n_errors\n",
      "0           5       5         0\n"
     ]
    },
    {
     "data": {
      "text/plain": [
       "RanExperiment(id='RXhwZXJpbWVudDoy', dataset_id='RGF0YXNldDox', dataset_version_id='RGF0YXNldFZlcnNpb246MQ==', repetitions=1)"
      ]
     },
     "execution_count": 24,
     "metadata": {},
     "output_type": "execute_result"
    }
   ],
   "source": [
    "from phoenix.evals.models import OpenAIModel\n",
    "from phoenix.experiments import evaluate_experiment\n",
    "from phoenix.experiments.evaluators.llm_evaluators import LLMCriteriaEvaluator\n",
    "\n",
    "llm_evaluator = LLMCriteriaEvaluator(\n",
    "    name=\"is_sql\",\n",
    "    criteria=\"is_sql\",\n",
    "    description=\"the output is a valid SQL query and that it executes without errors\",\n",
    "    model=OpenAIModel(model='phi3', base_url='http://localhost:11434/v1', api_key='ollama'),\n",
    ")\n",
    "\n",
    "evaluate_experiment(experiment, evaluators=[llm_evaluator])"
   ]
  },
  {
   "cell_type": "code",
   "execution_count": 25,
   "metadata": {},
   "outputs": [
    {
     "data": {
      "text/plain": [
       "<openai.AsyncOpenAI at 0x1ab037ecd90>"
      ]
     },
     "execution_count": 25,
     "metadata": {},
     "output_type": "execute_result"
    }
   ],
   "source": [
    "client"
   ]
  },
  {
   "cell_type": "code",
   "execution_count": 26,
   "metadata": {},
   "outputs": [
    {
     "name": "stdout",
     "output_type": "stream",
     "text": [
      " Here are some possible questions and their corresponding SQL queries:\n",
      "\n",
      "1. What is the total number of points scored by each team in all games? \n",
      "   Query: SELECT Team, SUM(TeamPoints) AS TotalPoints FROM nba GROUP BY Team;\n",
      "   Question: How many points did each NBA team score across all games played during a specific season or period?\n",
      "   \n",
      "2. Which teams have the highest field goal percentage (FG%) in this table and what are their FG% values? \n",
      "   Query: SELECT Team, ROUND(SUM(FieldGoals) / SUM(FieldGoalsAttempted), 3) AS FieldGoalPercentage FROM nba GROUP BY Team ORDER BY FieldGoalPercentage DESC LIMIT 5;\n",
      "   Question: Which NBA teams have the highest field goal percentage in this dataset and what are their respective FG% values?\n",
      "   \n",
      "3. How many three-point shots did each team attempt, make, and how does it compare to other players or seasons (if applicable)? \n",
      "   Query: SELECT Team, SUM(X3PointShotsAttempted) AS Attempts, SUM(X3PointShots) AS Made FROM nba GROUP BY Team;\n",
      "   Question: How many three-point shots did each NBA team attempt and make in this dataset? Can we compare these numbers to other teams or seasons for contextual understanding of their performance on 3-pointers?\n",
      "   \n",
      "4. Which players have the highest free throw percentage (FT%) among all turnovers made by a specific player, coach, or game situation (if applicable)? \n",
      "   Query: SELECT PlayerName, ROUND(SUM(FreeThrows) / SUM(Turnovers), 3) AS FreeThrowPercentage FROM nba WHERE Turnover = 'SpecificPlayer' GROUP BY PlayerName ORDER BY FreeThrowPercentage DESC LIMIT 5;\n",
      "   Question: Which NBA players have the highest free throw percentage among all turnovers made by a specific player, coach, or game situation? Can we identify any patterns in these numbers that may indicate areas for improvement during games where turnovers occur frequently?\n",
      "   \n",
      "5. How many total rebounds did each team get and how does it compare to other teams (if applicable)? \n",
      "   Query: SELECT Team, SUM(TotalRebounds) AS Rebounds FROM nba GROUP BY Team ORDER BY Rebounds DESC LIMIT 5;\n",
      "   Question: Which NBA teams have the highest number of total rebounds in this dataset? Can we identify any trends or patterns that may indicate a correlation between rebounding and winning games, based on these numbers alone (if applicable)?\n"
     ]
    }
   ],
   "source": [
    "# Generate Dataimport json\n",
    "\n",
    "from pydantic import BaseModel\n",
    "import json\n",
    "\n",
    "class Question(BaseModel):\n",
    "    sql: str\n",
    "    question: str\n",
    "\n",
    "\n",
    "class Questions(BaseModel):\n",
    "    questions: list[Question]\n",
    "\n",
    "schema = \"\\n\".join(f\"{column['column_name']} | {column['column_type']} | {samples[column['column_name']]}\" for column in columns)\n",
    "\n",
    "\n",
    "synthetic_data_prompt = f\"\"\"\n",
    "You are a SQL expert, and you are given a single table named nba with the following columns:\n",
    "\n",
    "Column | Type | Example\n",
    "-------|------|--------\n",
    "{schema}\n",
    "\n",
    "Generate SQL queries that would be interesting to ask about this table. Return the SQL query as a string, as well as the question that the query answers.\"\"\"\n",
    "\n",
    "response = await client.chat.completions.create(\n",
    "    model=TASK_MODEL,\n",
    "    temperature=0,\n",
    "    messages=[\n",
    "        {\n",
    "            \"role\": \"user\",\n",
    "            \"content\": synthetic_data_prompt,\n",
    "        }\n",
    "    ],\n",
    "    tools=[\n",
    "        {\n",
    "            \"type\": \"function\",\n",
    "            \"function\": {\n",
    "                \"name\": \"generate_questions\",\n",
    "                \"description\": \"Generate SQL queries that would be interesting to ask about this table.\",\n",
    "                \"parameters\": Questions.model_json_schema(),\n",
    "            },\n",
    "        }\n",
    "    ],\n",
    "    tool_choice={\"type\": \"function\", \"function\": {\"name\": \"generate_questions\"}},\n",
    ")\n",
    "\n",
    "\n",
    "generated_questions = response.choices[0].message.content\n",
    "\n",
    "print(generated_questions)\n",
    "\n"
   ]
  },
  {
   "cell_type": "code",
   "execution_count": 27,
   "metadata": {},
   "outputs": [],
   "source": [
    "import re\n",
    "\n",
    "final_question = []\n",
    "\n",
    "for item in re.split(r'\\d\\.', generated_questions):\n",
    "    if item.strip().startswith(('What', 'Which', 'How')):\n",
    "        sent_pieces = (re.split(r'\\n', item))\n",
    "        original_task = sent_pieces[0].strip()\n",
    "        query = [q1 for q1 in [re.findall(r'(Query:)(.*)', st) for st in sent_pieces] if len(q1)>0][0][0][1].strip()\n",
    "        question = [q2 for q2 in [re.findall(r'(Question:)(.*)', st) for st in sent_pieces] if len(q2)>0][0][0][1].strip()\n",
    "        output_dict = {\n",
    "            'task': original_task,\n",
    "            'sql': query,\n",
    "            'question': question\n",
    "        }\n",
    "        final_question.append(output_dict)\n",
    "\n",
    "       \n"
   ]
  },
  {
   "cell_type": "code",
   "execution_count": 28,
   "metadata": {},
   "outputs": [
    {
     "data": {
      "text/plain": [
       "[{'task': 'What is the total number of points scored by each team in all games?',\n",
       "  'sql': 'SELECT Team, SUM(TeamPoints) AS TotalPoints FROM nba GROUP BY Team;',\n",
       "  'question': 'How many points did each NBA team score across all games played during a specific season or period?'},\n",
       " {'task': 'Which teams have the highest field goal percentage (FG%) in this table and what are their FG% values?',\n",
       "  'sql': 'SELECT Team, ROUND(SUM(FieldGoals) / SUM(FieldGoalsAttempted), 3) AS FieldGoalPercentage FROM nba GROUP BY Team ORDER BY FieldGoalPercentage DESC LIMIT 5;',\n",
       "  'question': 'Which NBA teams have the highest field goal percentage in this dataset and what are their respective FG% values?'},\n",
       " {'task': 'How many three-point shots did each team attempt, make, and how does it compare to other players or seasons (if applicable)?',\n",
       "  'sql': 'SELECT Team, SUM(X3PointShotsAttempted) AS Attempts, SUM(X3PointShots) AS Made FROM nba GROUP BY Team;',\n",
       "  'question': 'How many three-point shots did each NBA team attempt and make in this dataset? Can we compare these numbers to other teams or seasons for contextual understanding of their performance on 3-pointers?'},\n",
       " {'task': 'Which players have the highest free throw percentage (FT%) among all turnovers made by a specific player, coach, or game situation (if applicable)?',\n",
       "  'sql': \"SELECT PlayerName, ROUND(SUM(FreeThrows) / SUM(Turnovers), 3) AS FreeThrowPercentage FROM nba WHERE Turnover = 'SpecificPlayer' GROUP BY PlayerName ORDER BY FreeThrowPercentage DESC LIMIT 5;\",\n",
       "  'question': 'Which NBA players have the highest free throw percentage among all turnovers made by a specific player, coach, or game situation? Can we identify any patterns in these numbers that may indicate areas for improvement during games where turnovers occur frequently?'},\n",
       " {'task': 'How many total rebounds did each team get and how does it compare to other teams (if applicable)?',\n",
       "  'sql': 'SELECT Team, SUM(TotalRebounds) AS Rebounds FROM nba GROUP BY Team ORDER BY Rebounds DESC LIMIT 5;',\n",
       "  'question': 'Which NBA teams have the highest number of total rebounds in this dataset? Can we identify any trends or patterns that may indicate a correlation between rebounding and winning games, based on these numbers alone (if applicable)?'}]"
      ]
     },
     "execution_count": 28,
     "metadata": {},
     "output_type": "execute_result"
    }
   ],
   "source": [
    "final_question"
   ]
  },
  {
   "cell_type": "code",
   "execution_count": 29,
   "metadata": {},
   "outputs": [
    {
     "name": "stdout",
     "output_type": "stream",
     "text": [
      "Query failed: SELECT PlayerName, ROUND(SUM(FreeThrows) / SUM(Turnovers), 3) AS FreeThrowPercentage FROM nba WHERE Turnover = 'SpecificPlayer' GROUP BY PlayerName ORDER BY FreeThrowPercentage DESC LIMIT 5; Binder Error: Referenced column \"Turnover\" not found in FROM clause!\n",
      "Candidate bindings: \"nba.Turnovers\", \"nba.Opp.Turnovers\"\n",
      "Skipping...\n"
     ]
    },
    {
     "data": {
      "text/plain": [
       "{'input': 'How many points did each NBA team score across all games played during a specific season or period?',\n",
       " 'expected': {'results': [{'Team': 'CLE', 'TotalPoints': 35150.0},\n",
       "   {'Team': 'MEM', 'TotalPoints': 32572.0},\n",
       "   {'Team': 'NOP', 'TotalPoints': 34287.0},\n",
       "   {'Team': 'ORL', 'TotalPoints': 32983.0},\n",
       "   {'Team': 'WAS', 'TotalPoints': 34309.0},\n",
       "   {'Team': 'BRK', 'TotalPoints': 33541.0},\n",
       "   {'Team': 'CHO', 'TotalPoints': 33675.0},\n",
       "   {'Team': 'DAL', 'TotalPoints': 33435.0},\n",
       "   {'Team': 'LAC', 'TotalPoints': 35168.0},\n",
       "   {'Team': 'ATL', 'TotalPoints': 33776.0},\n",
       "   {'Team': 'CHI', 'TotalPoints': 33475.0},\n",
       "   {'Team': 'NYK', 'TotalPoints': 32722.0},\n",
       "   {'Team': 'POR', 'TotalPoints': 34563.0},\n",
       "   {'Team': 'BOS', 'TotalPoints': 34367.0},\n",
       "   {'Team': 'HOU', 'TotalPoints': 35930.0},\n",
       "   {'Team': 'LAL', 'TotalPoints': 33492.0},\n",
       "   {'Team': 'MIN', 'TotalPoints': 34051.0},\n",
       "   {'Team': 'TOR', 'TotalPoints': 34867.0},\n",
       "   {'Team': 'DET', 'TotalPoints': 33256.0},\n",
       "   {'Team': 'GSW', 'TotalPoints': 37244.0},\n",
       "   {'Team': 'IND', 'TotalPoints': 33632.0},\n",
       "   {'Team': 'MIA', 'TotalPoints': 32908.0},\n",
       "   {'Team': 'MIL', 'TotalPoints': 33373.0},\n",
       "   {'Team': 'SAC', 'TotalPoints': 33584.0},\n",
       "   {'Team': 'OKC', 'TotalPoints': 35147.0},\n",
       "   {'Team': 'PHI', 'TotalPoints': 32934.0},\n",
       "   {'Team': 'PHO', 'TotalPoints': 34021.0},\n",
       "   {'Team': 'SAS', 'TotalPoints': 34012.0},\n",
       "   {'Team': 'DEN', 'TotalPoints': 34856.0},\n",
       "   {'Team': 'UTA', 'TotalPoints': 32609.0}],\n",
       "  'error': None,\n",
       "  'query': 'SELECT Team, SUM(TeamPoints) AS TotalPoints FROM nba GROUP BY Team;'},\n",
       " 'metadata': {'category': 'Generated'}}"
      ]
     },
     "execution_count": 29,
     "metadata": {},
     "output_type": "execute_result"
    }
   ],
   "source": [
    "generated_dataset = []\n",
    "for q in final_question:\n",
    "    try:\n",
    "        result = execute_query(q[\"sql\"])\n",
    "        generated_dataset.append(\n",
    "            {\n",
    "                \"input\": q[\"question\"],\n",
    "                \"expected\": {\n",
    "                    \"results\": result,\n",
    "                    \"error\": None,\n",
    "                    \"query\": q[\"sql\"],\n",
    "                },\n",
    "                \"metadata\": {\n",
    "                    \"category\": \"Generated\",\n",
    "                },\n",
    "            }\n",
    "        )\n",
    "    except duckdb.Error as e:\n",
    "        print(f\"Query failed: {q['sql']}\", e)\n",
    "        print(\"Skipping...\")\n",
    "\n",
    "generated_dataset[0]"
   ]
  },
  {
   "cell_type": "code",
   "execution_count": 30,
   "metadata": {},
   "outputs": [
    {
     "data": {
      "text/plain": [
       "[{'input': 'How many points did each NBA team score across all games played during a specific season or period?',\n",
       "  'expected': {'results': [{'Team': 'CLE', 'TotalPoints': 35150.0},\n",
       "    {'Team': 'MEM', 'TotalPoints': 32572.0},\n",
       "    {'Team': 'NOP', 'TotalPoints': 34287.0},\n",
       "    {'Team': 'ORL', 'TotalPoints': 32983.0},\n",
       "    {'Team': 'WAS', 'TotalPoints': 34309.0},\n",
       "    {'Team': 'BRK', 'TotalPoints': 33541.0},\n",
       "    {'Team': 'CHO', 'TotalPoints': 33675.0},\n",
       "    {'Team': 'DAL', 'TotalPoints': 33435.0},\n",
       "    {'Team': 'LAC', 'TotalPoints': 35168.0},\n",
       "    {'Team': 'ATL', 'TotalPoints': 33776.0},\n",
       "    {'Team': 'CHI', 'TotalPoints': 33475.0},\n",
       "    {'Team': 'NYK', 'TotalPoints': 32722.0},\n",
       "    {'Team': 'POR', 'TotalPoints': 34563.0},\n",
       "    {'Team': 'BOS', 'TotalPoints': 34367.0},\n",
       "    {'Team': 'HOU', 'TotalPoints': 35930.0},\n",
       "    {'Team': 'LAL', 'TotalPoints': 33492.0},\n",
       "    {'Team': 'MIN', 'TotalPoints': 34051.0},\n",
       "    {'Team': 'TOR', 'TotalPoints': 34867.0},\n",
       "    {'Team': 'DET', 'TotalPoints': 33256.0},\n",
       "    {'Team': 'GSW', 'TotalPoints': 37244.0},\n",
       "    {'Team': 'IND', 'TotalPoints': 33632.0},\n",
       "    {'Team': 'MIA', 'TotalPoints': 32908.0},\n",
       "    {'Team': 'MIL', 'TotalPoints': 33373.0},\n",
       "    {'Team': 'SAC', 'TotalPoints': 33584.0},\n",
       "    {'Team': 'OKC', 'TotalPoints': 35147.0},\n",
       "    {'Team': 'PHI', 'TotalPoints': 32934.0},\n",
       "    {'Team': 'PHO', 'TotalPoints': 34021.0},\n",
       "    {'Team': 'SAS', 'TotalPoints': 34012.0},\n",
       "    {'Team': 'DEN', 'TotalPoints': 34856.0},\n",
       "    {'Team': 'UTA', 'TotalPoints': 32609.0}],\n",
       "   'error': None,\n",
       "   'query': 'SELECT Team, SUM(TeamPoints) AS TotalPoints FROM nba GROUP BY Team;'},\n",
       "  'metadata': {'category': 'Generated'}},\n",
       " {'input': 'Which NBA teams have the highest field goal percentage in this dataset and what are their respective FG% values?',\n",
       "  'expected': {'results': [{'Team': 'GSW', 'FieldGoalPercentage': 0.491},\n",
       "    {'Team': 'LAC', 'FieldGoalPercentage': 0.471},\n",
       "    {'Team': 'SAS', 'FieldGoalPercentage': 0.47},\n",
       "    {'Team': 'MIL', 'FieldGoalPercentage': 0.469},\n",
       "    {'Team': 'CLE', 'FieldGoalPercentage': 0.466}],\n",
       "   'error': None,\n",
       "   'query': 'SELECT Team, ROUND(SUM(FieldGoals) / SUM(FieldGoalsAttempted), 3) AS FieldGoalPercentage FROM nba GROUP BY Team ORDER BY FieldGoalPercentage DESC LIMIT 5;'},\n",
       "  'metadata': {'category': 'Generated'}},\n",
       " {'input': 'How many three-point shots did each NBA team attempt and make in this dataset? Can we compare these numbers to other teams or seasons for contextual understanding of their performance on 3-pointers?',\n",
       "  'expected': {'results': [{'Team': 'BOS', 'Attempts': 9397.0, 'Made': 3301.0},\n",
       "    {'Team': 'HOU', 'Attempts': 11989.0, 'Made': 4248.0},\n",
       "    {'Team': 'LAL', 'Attempts': 8056.0, 'Made': 2723.0},\n",
       "    {'Team': 'MIN', 'Attempts': 6138.0, 'Made': 2120.0},\n",
       "    {'Team': 'TOR', 'Attempts': 8674.0, 'Made': 3127.0},\n",
       "    {'Team': 'DEN', 'Attempts': 8876.0, 'Made': 3126.0},\n",
       "    {'Team': 'UTA', 'Attempts': 8290.0, 'Made': 2982.0},\n",
       "    {'Team': 'DET', 'Attempts': 8479.0, 'Made': 2960.0},\n",
       "    {'Team': 'GSW', 'Attempts': 9740.0, 'Made': 3868.0},\n",
       "    {'Team': 'IND', 'Attempts': 7524.0, 'Made': 2725.0},\n",
       "    {'Team': 'MIA', 'Attempts': 7858.0, 'Made': 2765.0},\n",
       "    {'Team': 'MIL', 'Attempts': 6747.0, 'Made': 2423.0},\n",
       "    {'Team': 'SAC', 'Attempts': 7116.0, 'Made': 2596.0},\n",
       "    {'Team': 'OKC', 'Attempts': 8415.0, 'Made': 2883.0},\n",
       "    {'Team': 'PHI', 'Attempts': 9303.0, 'Made': 3188.0},\n",
       "    {'Team': 'PHO', 'Attempts': 8306.0, 'Made': 2814.0},\n",
       "    {'Team': 'SAS', 'Attempts': 7269.0, 'Made': 2696.0},\n",
       "    {'Team': 'ATL', 'Attempts': 9159.0, 'Made': 3279.0},\n",
       "    {'Team': 'CHI', 'Attempts': 7959.0, 'Made': 2825.0},\n",
       "    {'Team': 'NYK', 'Attempts': 7312.0, 'Made': 2547.0},\n",
       "    {'Team': 'POR', 'Attempts': 9147.0, 'Made': 3368.0},\n",
       "    {'Team': 'BRK', 'Attempts': 8656.0, 'Made': 2990.0},\n",
       "    {'Team': 'CHO', 'Attempts': 8556.0, 'Made': 3019.0},\n",
       "    {'Team': 'DAL', 'Attempts': 9585.0, 'Made': 3383.0},\n",
       "    {'Team': 'LAC', 'Attempts': 8833.0, 'Made': 3242.0},\n",
       "    {'Team': 'CLE', 'Attempts': 10096.0, 'Made': 3754.0},\n",
       "    {'Team': 'MEM', 'Attempts': 7088.0, 'Made': 2452.0},\n",
       "    {'Team': 'NOP', 'Attempts': 8042.0, 'Made': 2893.0},\n",
       "    {'Team': 'ORL', 'Attempts': 7960.0, 'Made': 2735.0},\n",
       "    {'Team': 'WAS', 'Attempts': 7567.0, 'Made': 2776.0}],\n",
       "   'error': None,\n",
       "   'query': 'SELECT Team, SUM(X3PointShotsAttempted) AS Attempts, SUM(X3PointShots) AS Made FROM nba GROUP BY Team;'},\n",
       "  'metadata': {'category': 'Generated'}},\n",
       " {'input': 'Which NBA teams have the highest number of total rebounds in this dataset? Can we identify any trends or patterns that may indicate a correlation between rebounding and winning games, based on these numbers alone (if applicable)?',\n",
       "  'expected': {'results': [{'Team': 'OKC', 'Rebounds': 15401.0},\n",
       "    {'Team': 'CHI', 'Rebounds': 15006.0},\n",
       "    {'Team': 'DET', 'Rebounds': 14811.0},\n",
       "    {'Team': 'POR', 'Rebounds': 14798.0},\n",
       "    {'Team': 'DEN', 'Rebounds': 14777.0}],\n",
       "   'error': None,\n",
       "   'query': 'SELECT Team, SUM(TotalRebounds) AS Rebounds FROM nba GROUP BY Team ORDER BY Rebounds DESC LIMIT 5;'},\n",
       "  'metadata': {'category': 'Generated'}}]"
      ]
     },
     "execution_count": 30,
     "metadata": {},
     "output_type": "execute_result"
    }
   ],
   "source": [
    "generated_dataset"
   ]
  },
  {
   "cell_type": "code",
   "execution_count": 31,
   "metadata": {},
   "outputs": [
    {
     "name": "stdout",
     "output_type": "stream",
     "text": [
      "📤 Uploading dataset...\n",
      "💾 Examples uploaded: http://localhost:6006/datasets/RGF0YXNldDoy/examples\n",
      "🗄️ Dataset version ID: RGF0YXNldFZlcnNpb246Mg==\n"
     ]
    }
   ],
   "source": [
    "synthetic_dataset = px.Client().upload_dataset(\n",
    "    dataset_name=\"nba-golden-synthetic\",\n",
    "    inputs=[{\"question\": example[\"input\"]} for example in generated_dataset],\n",
    "    outputs=[example[\"expected\"] for example in generated_dataset],\n",
    ");"
   ]
  },
  {
   "cell_type": "code",
   "execution_count": 32,
   "metadata": {},
   "outputs": [
    {
     "name": "stdout",
     "output_type": "stream",
     "text": [
      "🧪 Experiment started.\n",
      "📺 View dataset experiments: http://localhost:6006/datasets/RGF0YXNldDoy/experiments\n",
      "🔗 View this experiment: http://localhost:6006/datasets/RGF0YXNldDoy/compare?experimentId=RXhwZXJpbWVudDoz\n"
     ]
    },
    {
     "data": {
      "application/vnd.jupyter.widget-view+json": {
       "model_id": "6b7620709d9d4b968ed1dcb1e580af25",
       "version_major": 2,
       "version_minor": 0
      },
      "text/plain": [
       "running tasks |          | 0/4 (0.0%) | ⏳ 00:00<? | ?it/s"
      ]
     },
     "metadata": {},
     "output_type": "display_data"
    },
    {
     "name": "stdout",
     "output_type": "stream",
     "text": [
      "✅ Task runs completed.\n",
      "🧠 Evaluation started.\n"
     ]
    },
    {
     "data": {
      "application/vnd.jupyter.widget-view+json": {
       "model_id": "8415396e3b594b7da1bfd08c739c715b",
       "version_major": 2,
       "version_minor": 0
      },
      "text/plain": [
       "running experiment evaluations |          | 0/8 (0.0%) | ⏳ 00:00<? | ?it/s"
      ]
     },
     "metadata": {},
     "output_type": "display_data"
    },
    {
     "name": "stdout",
     "output_type": "stream",
     "text": [
      "\n",
      "🔗 View this experiment: http://localhost:6006/datasets/RGF0YXNldDoy/compare?experimentId=RXhwZXJpbWVudDoz\n",
      "\n",
      "Experiment Summary (07/22/24 03:21 PM -0400)\n",
      "--------------------------------------------\n",
      "     evaluator  n  n_scores  avg_score\n",
      "0  has_results  4         4        0.5\n",
      "1     no_error  4         4        0.5\n",
      "\n",
      "Tasks Summary (07/22/24 03:21 PM -0400)\n",
      "---------------------------------------\n",
      "   n_examples  n_runs  n_errors\n",
      "0           4       4         0\n"
     ]
    },
    {
     "data": {
      "text/plain": [
       "RanExperiment(id='RXhwZXJpbWVudDoz', dataset_id='RGF0YXNldDoy', dataset_version_id='RGF0YXNldFZlcnNpb246Mg==', repetitions=1)"
      ]
     },
     "execution_count": 32,
     "metadata": {},
     "output_type": "execute_result"
    }
   ],
   "source": [
    "run_experiment(\n",
    "    synthetic_dataset, task=task, evaluators=[no_error, has_results], experiment_metadata=CONFIG\n",
    ")"
   ]
  }
 ],
 "metadata": {
  "kernelspec": {
   "display_name": "langchain",
   "language": "python",
   "name": "python3"
  },
  "language_info": {
   "codemirror_mode": {
    "name": "ipython",
    "version": 3
   },
   "file_extension": ".py",
   "mimetype": "text/x-python",
   "name": "python",
   "nbconvert_exporter": "python",
   "pygments_lexer": "ipython3",
   "version": "3.11.9"
  }
 },
 "nbformat": 4,
 "nbformat_minor": 2
}
